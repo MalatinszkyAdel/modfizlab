{
 "cells": [
  {
   "cell_type": "code",
   "execution_count": 1,
   "metadata": {
    "id": "6MpQIKt7BRS5"
   },
   "outputs": [],
   "source": [
    "from sympy import *\n",
    "init_printing()\n",
    "\n",
    "from sympy import Matrix\n",
    "from sympy.physics.quantum import TensorProduct\n",
    "#%pylab inline\n",
    "import numpy as np\n",
    "import matplotlib.pyplot as plt"
   ]
  },
  {
   "cell_type": "code",
   "execution_count": 120,
   "metadata": {
    "id": "YxqOTMJLBRS_"
   },
   "outputs": [],
   "source": [
    "(alpha,beta,gamma,delta,eta)=symbols('alpha,beta,gamma,delta,eta')\n",
    "(alpha_1,beta_1,alpha_2,beta_2)=symbols('alpha_1,beta_1,alpha_2,beta_2')"
   ]
  },
  {
   "cell_type": "markdown",
   "metadata": {
    "id": "9NOBQ27EBRTA"
   },
   "source": [
    "## Egyfoton-állapotok\n",
    "\n",
    "$\\mid H \\rangle = \\left[\\begin{matrix}1\\\\0\\end{matrix}\\right], \\ \\mid V \\rangle =  \\left[\\begin{matrix}0\\\\1\\end{matrix}\\right]$\n"
   ]
  },
  {
   "cell_type": "code",
   "execution_count": 121,
   "metadata": {
    "id": "Wx9-sRH-BRTC"
   },
   "outputs": [],
   "source": [
    "state_0=Matrix([[1],[0]])\n",
    "state_1=Matrix([[0],[1]])\n",
    "state_random=Matrix([[alpha],[beta]])"
   ]
  },
  {
   "cell_type": "markdown",
   "metadata": {
    "id": "TBA5FtW1BRTD"
   },
   "source": [
    "## Polárszűrők X, Y, +45°, -45°\n",
    "$P_X= \\left[\\begin{matrix}1 & 0\\\\0 & 0\\end{matrix}\\right], \\ P_Y\\left[\\begin{matrix}0 & 0\\\\0 & 1\\end{matrix}\\right], \\  P_{+45}\\left[\\begin{matrix}0.5 & -0.5\\\\-0.5 & 0.5\\end{matrix}\\right], \\  P_{-45}\\left[\\begin{matrix}0.5 & 0.5\\\\0.5 & 0.5\\end{matrix}\\right]$"
   ]
  },
  {
   "cell_type": "code",
   "execution_count": 122,
   "metadata": {
    "id": "ePhplrjcBRTE"
   },
   "outputs": [],
   "source": [
    "Polar_X=Matrix([[1,0],[0,0]])\n",
    "Polar_Y=Matrix([[0,0],[0,1]])\n",
    "Polar_45p=Matrix([[1/2,-1/2],[-1/2,1/2]])\n",
    "Polar_45m=Matrix([[1/2,1/2],[1/2,1/2]])"
   ]
  },
  {
   "cell_type": "markdown",
   "metadata": {
    "id": "ZCaNKkx0BRTF"
   },
   "source": [
    "## Forgatás tetszőleges szöggel"
   ]
  },
  {
   "cell_type": "code",
   "execution_count": 123,
   "metadata": {
    "colab": {
     "base_uri": "https://localhost:8080/",
     "height": 58
    },
    "id": "1yZTEG--BRTG",
    "outputId": "934baaac-cb84-4412-a632-010f667a039d"
   },
   "outputs": [
    {
     "data": {
      "text/latex": [
       "$\\displaystyle \\left[\\begin{matrix}\\cos{\\left(\\gamma \\right)} & - \\sin{\\left(\\gamma \\right)}\\\\\\sin{\\left(\\gamma \\right)} & \\cos{\\left(\\gamma \\right)}\\end{matrix}\\right]$"
      ],
      "text/plain": [
       "⎡cos(γ)  -sin(γ)⎤\n",
       "⎢               ⎥\n",
       "⎣sin(γ)  cos(γ) ⎦"
      ]
     },
     "execution_count": 123,
     "metadata": {},
     "output_type": "execute_result"
    }
   ],
   "source": [
    "rotator=Matrix([[cos(gamma),-sin(gamma)],[sin(gamma),cos(gamma)]])\n",
    "rotator"
   ]
  },
  {
   "cell_type": "markdown",
   "metadata": {
    "id": "8CX4gZ9OBRTI"
   },
   "source": [
    "## X komponens mérése\n",
    "$ \\left[\\begin{matrix}1 & 0\\\\0 & 0\\end{matrix}\\right] \\left[\\begin{matrix}\\alpha\\\\\\beta\\end{matrix}\\right] = \\left[\\begin{matrix}\\alpha\\\\0\\end{matrix}\\right]$, a detektor az amplitudó négyzetet méri: $ \\mid \\alpha \\mid ^2 $ -et."
   ]
  },
  {
   "cell_type": "code",
   "execution_count": 124,
   "metadata": {
    "colab": {
     "base_uri": "https://localhost:8080/",
     "height": 39
    },
    "id": "9368Xck5BRTK",
    "outputId": "75756e79-8de8-4519-fe97-37ecdec9688a"
   },
   "outputs": [
    {
     "data": {
      "image/png": "[encoded data removed]",
      "text/latex": [
       "$\\displaystyle \\left|{\\alpha}\\right|^{2}$"
      ],
      "text/plain": [
       "   2\n",
       "│α│ "
      ]
     },
     "execution_count": 124,
     "metadata": {},
     "output_type": "execute_result"
    }
   ],
   "source": [
    "(Polar_X@state_random).norm()**2"
   ]
  },
  {
   "cell_type": "markdown",
   "metadata": {
    "id": "Jgj54cy8BRTK"
   },
   "source": [
    "## Tetszőleges irányban álló polárszűrő"
   ]
  },
  {
   "cell_type": "markdown",
   "metadata": {
    "id": "qIV9GKwlBRTL"
   },
   "source": [
    "\n"
   ]
  },
  {
   "cell_type": "code",
   "execution_count": 149,
   "metadata": {
    "colab": {
     "base_uri": "https://localhost:8080/",
     "height": 58
    },
    "id": "zBclUtZSBRTM",
    "outputId": "af4eadf2-d388-4161-a4ca-6a87c05de807"
   },
   "outputs": [
    {
     "name": "stdout",
     "output_type": "stream",
     "text": [
      "\\left[\\begin{matrix}\\cos^{2}{\\left(\\alpha \\right)} & \\sin{\\left(\\alpha \\right)} \\cos{\\left(\\alpha \\right)}\\\\\\sin{\\left(\\alpha \\right)} \\cos{\\left(\\alpha \\right)} & \\sin^{2}{\\left(\\alpha \\right)}\\end{matrix}\\right]\n"
     ]
    }
   ],
   "source": [
    "polar=rotator@Polar_X@rotator.subs(gamma,-gamma)\n",
    "print(latex(polar.subs(gamma,alpha)))"
   ]
  },
  {
   "cell_type": "markdown",
   "metadata": {
    "id": "T9DKix9JBRTM"
   },
   "source": [
    "## A kétfotonos $ \\mid HV \\rangle $ állapot a $\\mid H \\rangle_1 \\otimes \\mid V \\rangle_2$ tenzorszorzatként írható fel:"
   ]
  },
  {
   "cell_type": "code",
   "execution_count": 126,
   "metadata": {
    "colab": {
     "base_uri": "https://localhost:8080/",
     "height": 99
    },
    "id": "k_7X2vxLBRTN",
    "outputId": "0296c3eb-64de-48d8-f5d5-a4fe96a427a3"
   },
   "outputs": [
    {
     "data": {
      "text/latex": [
       "$\\displaystyle \\left[\\begin{matrix}0\\\\1\\\\0\\\\0\\end{matrix}\\right]$"
      ],
      "text/plain": [
       "⎡0⎤\n",
       "⎢ ⎥\n",
       "⎢1⎥\n",
       "⎢ ⎥\n",
       "⎢0⎥\n",
       "⎢ ⎥\n",
       "⎣0⎦"
      ]
     },
     "execution_count": 126,
     "metadata": {},
     "output_type": "execute_result"
    }
   ],
   "source": [
    "s01=TensorProduct(state_0,state_1)\n",
    "s01"
   ]
  },
  {
   "cell_type": "markdown",
   "metadata": {
    "id": "IXnbjAWcBRTN"
   },
   "source": [
    "Ha az egyik foton útjába egy $\\alpha$, a másik útjába egy $\\beta$ szögbe forgatott polárszűrőt helyezünk, akkor a kétfoton állapotra a két megfelelő Jones-mátrix tenzorszorzatát kell hattatni."
   ]
  },
  {
   "cell_type": "code",
   "execution_count": 150,
   "metadata": {
    "colab": {
     "base_uri": "https://localhost:8080/",
     "height": 100
    },
    "id": "aM1oc0qPBRTN",
    "outputId": "8801d412-2a50-4206-cb4e-a9aa0ea140c9"
   },
   "outputs": [
    {
     "name": "stdout",
     "output_type": "stream",
     "text": [
      "\\left[\\begin{matrix}\\cos^{2}{\\left(\\alpha \\right)} \\cos^{2}{\\left(\\beta \\right)} & \\sin{\\left(\\beta \\right)} \\cos^{2}{\\left(\\alpha \\right)} \\cos{\\left(\\beta \\right)} & \\sin{\\left(\\alpha \\right)} \\cos{\\left(\\alpha \\right)} \\cos^{2}{\\left(\\beta \\right)} & \\sin{\\left(\\alpha \\right)} \\sin{\\left(\\beta \\right)} \\cos{\\left(\\alpha \\right)} \\cos{\\left(\\beta \\right)}\\\\\\sin{\\left(\\beta \\right)} \\cos^{2}{\\left(\\alpha \\right)} \\cos{\\left(\\beta \\right)} & \\sin^{2}{\\left(\\beta \\right)} \\cos^{2}{\\left(\\alpha \\right)} & \\sin{\\left(\\alpha \\right)} \\sin{\\left(\\beta \\right)} \\cos{\\left(\\alpha \\right)} \\cos{\\left(\\beta \\right)} & \\sin{\\left(\\alpha \\right)} \\sin^{2}{\\left(\\beta \\right)} \\cos{\\left(\\alpha \\right)}\\\\\\sin{\\left(\\alpha \\right)} \\cos{\\left(\\alpha \\right)} \\cos^{2}{\\left(\\beta \\right)} & \\sin{\\left(\\alpha \\right)} \\sin{\\left(\\beta \\right)} \\cos{\\left(\\alpha \\right)} \\cos{\\left(\\beta \\right)} & \\sin^{2}{\\left(\\alpha \\right)} \\cos^{2}{\\left(\\beta \\right)} & \\sin^{2}{\\left(\\alpha \\right)} \\sin{\\left(\\beta \\right)} \\cos{\\left(\\beta \\right)}\\\\\\sin{\\left(\\alpha \\right)} \\sin{\\left(\\beta \\right)} \\cos{\\left(\\alpha \\right)} \\cos{\\left(\\beta \\right)} & \\sin{\\left(\\alpha \\right)} \\sin^{2}{\\left(\\beta \\right)} \\cos{\\left(\\alpha \\right)} & \\sin^{2}{\\left(\\alpha \\right)} \\sin{\\left(\\beta \\right)} \\cos{\\left(\\beta \\right)} & \\sin^{2}{\\left(\\alpha \\right)} \\sin^{2}{\\left(\\beta \\right)}\\end{matrix}\\right]\n"
     ]
    },
    {
     "data": {
      "text/latex": [
       "$\\displaystyle \\left[\\begin{matrix}\\cos^{2}{\\left(\\alpha \\right)} \\cos^{2}{\\left(\\beta \\right)} & \\sin{\\left(\\beta \\right)} \\cos^{2}{\\left(\\alpha \\right)} \\cos{\\left(\\beta \\right)} & \\sin{\\left(\\alpha \\right)} \\cos{\\left(\\alpha \\right)} \\cos^{2}{\\left(\\beta \\right)} & \\sin{\\left(\\alpha \\right)} \\sin{\\left(\\beta \\right)} \\cos{\\left(\\alpha \\right)} \\cos{\\left(\\beta \\right)}\\\\\\sin{\\left(\\beta \\right)} \\cos^{2}{\\left(\\alpha \\right)} \\cos{\\left(\\beta \\right)} & \\sin^{2}{\\left(\\beta \\right)} \\cos^{2}{\\left(\\alpha \\right)} & \\sin{\\left(\\alpha \\right)} \\sin{\\left(\\beta \\right)} \\cos{\\left(\\alpha \\right)} \\cos{\\left(\\beta \\right)} & \\sin{\\left(\\alpha \\right)} \\sin^{2}{\\left(\\beta \\right)} \\cos{\\left(\\alpha \\right)}\\\\\\sin{\\left(\\alpha \\right)} \\cos{\\left(\\alpha \\right)} \\cos^{2}{\\left(\\beta \\right)} & \\sin{\\left(\\alpha \\right)} \\sin{\\left(\\beta \\right)} \\cos{\\left(\\alpha \\right)} \\cos{\\left(\\beta \\right)} & \\sin^{2}{\\left(\\alpha \\right)} \\cos^{2}{\\left(\\beta \\right)} & \\sin^{2}{\\left(\\alpha \\right)} \\sin{\\left(\\beta \\right)} \\cos{\\left(\\beta \\right)}\\\\\\sin{\\left(\\alpha \\right)} \\sin{\\left(\\beta \\right)} \\cos{\\left(\\alpha \\right)} \\cos{\\left(\\beta \\right)} & \\sin{\\left(\\alpha \\right)} \\sin^{2}{\\left(\\beta \\right)} \\cos{\\left(\\alpha \\right)} & \\sin^{2}{\\left(\\alpha \\right)} \\sin{\\left(\\beta \\right)} \\cos{\\left(\\beta \\right)} & \\sin^{2}{\\left(\\alpha \\right)} \\sin^{2}{\\left(\\beta \\right)}\\end{matrix}\\right]$"
      ],
      "text/plain": [
       "⎡         2       2                        2                                  \n",
       "⎢      cos (α)⋅cos (β)           sin(β)⋅cos (α)⋅cos(β)        sin(α)⋅cos(α)⋅co\n",
       "⎢                                                                             \n",
       "⎢             2                        2       2                              \n",
       "⎢   sin(β)⋅cos (α)⋅cos(β)           sin (β)⋅cos (α)        sin(α)⋅sin(β)⋅cos(α\n",
       "⎢                                                                             \n",
       "⎢                    2                                              2       2 \n",
       "⎢   sin(α)⋅cos(α)⋅cos (β)     sin(α)⋅sin(β)⋅cos(α)⋅cos(β)        sin (α)⋅cos (\n",
       "⎢                                                                             \n",
       "⎢                                          2                     2            \n",
       "⎣sin(α)⋅sin(β)⋅cos(α)⋅cos(β)     sin(α)⋅sin (β)⋅cos(α)        sin (α)⋅sin(β)⋅c\n",
       "\n",
       " 2                                   ⎤\n",
       "s (β)     sin(α)⋅sin(β)⋅cos(α)⋅cos(β)⎥\n",
       "                                     ⎥\n",
       "                       2             ⎥\n",
       ")⋅cos(β)     sin(α)⋅sin (β)⋅cos(α)   ⎥\n",
       "                                     ⎥\n",
       "                2                    ⎥\n",
       "β)           sin (α)⋅sin(β)⋅cos(β)   ⎥\n",
       "                                     ⎥\n",
       "                   2       2         ⎥\n",
       "os(β)           sin (α)⋅sin (β)      ⎦"
      ]
     },
     "execution_count": 150,
     "metadata": {},
     "output_type": "execute_result"
    }
   ],
   "source": [
    "print(latex(TensorProduct(polar.subs(gamma,alpha),polar.subs(gamma,beta))))\n",
    "TensorProduct(polar.subs(gamma,alpha),polar.subs(gamma,beta))"
   ]
  },
  {
   "cell_type": "markdown",
   "metadata": {
    "id": "TWEUDLzNBRTO"
   },
   "source": [
    "Mennyi lesz ilyenkor a mérés várható értéke, a fentebb definiált $\\mid HV \\rangle$ állapotra?"
   ]
  },
  {
   "cell_type": "markdown",
   "metadata": {
    "id": "_QY2hBrwCEHK"
   },
   "source": [
    "# papíron kitalálhatjátok, aztán itt ellenőrízhetitek!"
   ]
  },
  {
   "cell_type": "code",
   "execution_count": 167,
   "metadata": {
    "id": "8Hs5wxoWBRTP"
   },
   "outputs": [
    {
     "data": {
      "image/png": "[encoded data removed]",
      "text/latex": [
       "$\\displaystyle \\sin^{2}{\\left(\\beta \\right)} \\cos^{2}{\\left(\\alpha \\right)}$"
      ],
      "text/plain": [
       "   2       2   \n",
       "sin (β)⋅cos (α)"
      ]
     },
     "execution_count": 167,
     "metadata": {},
     "output_type": "execute_result"
    }
   ],
   "source": [
    "(s01.T@TensorProduct(polar.subs(gamma,alpha),polar.subs(gamma,beta))@s01)[0].simplify()"
   ]
  },
  {
   "cell_type": "markdown",
   "metadata": {
    "id": "47lgCbg1BRTP"
   },
   "source": [
    "## Definiáljuk a $ \\Phi_+ = \\frac{1}{\\sqrt{2}} \\mid HH \\rangle + \\frac{1}{\\sqrt{2}} \\mid VV \\rangle$ Bell-állapotot!"
   ]
  },
  {
   "cell_type": "code",
   "execution_count": 128,
   "metadata": {
    "colab": {
     "base_uri": "https://localhost:8080/",
     "height": 105
    },
    "id": "j4RcfRMxBRTQ",
    "outputId": "b91ad709-26af-40e1-de39-94d436a7f25e"
   },
   "outputs": [
    {
     "data": {
      "text/latex": [
       "$\\displaystyle \\left[\\begin{matrix}\\frac{\\sqrt{2}}{2}\\\\0\\\\0\\\\\\frac{\\sqrt{2}}{2}\\end{matrix}\\right]$"
      ],
      "text/plain": [
       "⎡√2⎤\n",
       "⎢──⎥\n",
       "⎢2 ⎥\n",
       "⎢  ⎥\n",
       "⎢0 ⎥\n",
       "⎢  ⎥\n",
       "⎢0 ⎥\n",
       "⎢  ⎥\n",
       "⎢√2⎥\n",
       "⎢──⎥\n",
       "⎣2 ⎦"
      ]
     },
     "execution_count": 128,
     "metadata": {},
     "output_type": "execute_result"
    }
   ],
   "source": [
    "bell_phi_plusz=(TensorProduct(state_0,state_0)+TensorProduct(state_1,state_1))/sqrt(2)\n",
    "bell_phi_plusz"
   ]
  },
  {
   "cell_type": "markdown",
   "metadata": {
    "id": "MH_8Xb9GBRTQ"
   },
   "source": [
    "# Az alább definiált eab(alpha,beta,state) függvény kiszámolja az $\\mathbf{E}(AB)$ várható értéket! \n",
    "+ bemenetként a két bázis irányát (Alice majd Bob választását), illetve  \n",
    "+ a harmadék paraméterként, hogy milyen állapotra akarjuk kiszámolni a várható értéket!\n"
   ]
  },
  {
   "cell_type": "code",
   "execution_count": 129,
   "metadata": {
    "id": "JqXBl_tdBRTR"
   },
   "outputs": [],
   "source": [
    "def eab(alpha,beta,state):\n",
    "    Npp=(state.T@TensorProduct(polar.subs(gamma,alpha),polar.subs(gamma,beta))@state)[0].simplify()\n",
    "    Npm=(state.T@TensorProduct(polar.subs(gamma,alpha),polar.subs(gamma,beta+pi/2))@state)[0].simplify()\n",
    "    Nmp=(state.T@TensorProduct(polar.subs(gamma,alpha+pi/2),polar.subs(gamma,beta))@state)[0].simplify()\n",
    "    Nmm=(state.T@TensorProduct(polar.subs(gamma,alpha+pi/2),polar.subs(gamma,beta+pi/2))@state)[0].simplify()\n",
    "    return(Npp-Npm-Nmp+Nmm)/(Npp+Npm+Nmp+Nmm)\n"
   ]
  },
  {
   "cell_type": "markdown",
   "metadata": {
    "id": "v8RYFK0gBRTR"
   },
   "source": [
    "# További feladatok, a mérés kiértékeléséhez szükséges!\n",
    "+ definiáljuk a chsh() függvény(eke)t, hogy az $S,\\bar{S}$ paramétereket ki tudja számolni!\n",
    "+ Definiáljuk a többi Bell-állapotot!\n",
    "+ állapítsuk meg, hogy melyik Bell-állapot hova esik az $S,\\bar{S}$ koordinátarendszerben a jegyzetben leírt szokásos bázis választás mellett!\n",
    "+ a kapott eredmény segítségével tudjuk megállapítani, hogy a labormérés során melyik Bell-állapotot preparáltuk!"
   ]
  },
  {
   "cell_type": "code",
   "execution_count": 130,
   "metadata": {
    "id": "Mv5X3bPWBRTR"
   },
   "outputs": [],
   "source": [
    "bell_phi_plus=(TensorProduct(state_0,state_0)+TensorProduct(state_1,state_1))/sqrt(2)\n",
    "bell_phi_minus=(TensorProduct(state_0,state_0)-TensorProduct(state_1,state_1))/sqrt(2)\n",
    "bell_psi_plus=(TensorProduct(state_0,state_1)+TensorProduct(state_1,state_0))/sqrt(2)\n",
    "bell_psi_minus=(TensorProduct(state_0,state_1)-TensorProduct(state_1,state_0))/sqrt(2)\n",
    "\n"
   ]
  },
  {
   "cell_type": "code",
   "execution_count": 131,
   "metadata": {},
   "outputs": [
    {
     "data": {
      "text/latex": [
       "$\\displaystyle \\left[\\begin{matrix}\\frac{\\sqrt{2}}{2}\\\\0\\\\0\\\\\\frac{\\sqrt{2}}{2}\\end{matrix}\\right]$"
      ],
      "text/plain": [
       "⎡√2⎤\n",
       "⎢──⎥\n",
       "⎢2 ⎥\n",
       "⎢  ⎥\n",
       "⎢0 ⎥\n",
       "⎢  ⎥\n",
       "⎢0 ⎥\n",
       "⎢  ⎥\n",
       "⎢√2⎥\n",
       "⎢──⎥\n",
       "⎣2 ⎦"
      ]
     },
     "metadata": {},
     "output_type": "display_data"
    },
    {
     "data": {
      "text/latex": [
       "$\\displaystyle \\left[\\begin{matrix}\\frac{\\sqrt{2}}{2}\\\\0\\\\0\\\\- \\frac{\\sqrt{2}}{2}\\end{matrix}\\right]$"
      ],
      "text/plain": [
       "⎡ √2 ⎤\n",
       "⎢ ── ⎥\n",
       "⎢ 2  ⎥\n",
       "⎢    ⎥\n",
       "⎢ 0  ⎥\n",
       "⎢    ⎥\n",
       "⎢ 0  ⎥\n",
       "⎢    ⎥\n",
       "⎢-√2 ⎥\n",
       "⎢────⎥\n",
       "⎣ 2  ⎦"
      ]
     },
     "metadata": {},
     "output_type": "display_data"
    },
    {
     "data": {
      "text/latex": [
       "$\\displaystyle \\left[\\begin{matrix}0\\\\\\frac{\\sqrt{2}}{2}\\\\\\frac{\\sqrt{2}}{2}\\\\0\\end{matrix}\\right]$"
      ],
      "text/plain": [
       "⎡0 ⎤\n",
       "⎢  ⎥\n",
       "⎢√2⎥\n",
       "⎢──⎥\n",
       "⎢2 ⎥\n",
       "⎢  ⎥\n",
       "⎢√2⎥\n",
       "⎢──⎥\n",
       "⎢2 ⎥\n",
       "⎢  ⎥\n",
       "⎣0 ⎦"
      ]
     },
     "metadata": {},
     "output_type": "display_data"
    },
    {
     "data": {
      "text/latex": [
       "$\\displaystyle \\left[\\begin{matrix}0\\\\\\frac{\\sqrt{2}}{2}\\\\- \\frac{\\sqrt{2}}{2}\\\\0\\end{matrix}\\right]$"
      ],
      "text/plain": [
       "⎡ 0  ⎤\n",
       "⎢    ⎥\n",
       "⎢ √2 ⎥\n",
       "⎢ ── ⎥\n",
       "⎢ 2  ⎥\n",
       "⎢    ⎥\n",
       "⎢-√2 ⎥\n",
       "⎢────⎥\n",
       "⎢ 2  ⎥\n",
       "⎢    ⎥\n",
       "⎣ 0  ⎦"
      ]
     },
     "execution_count": 131,
     "metadata": {},
     "output_type": "execute_result"
    }
   ],
   "source": [
    "display(bell_phi_plus)\n",
    "display(bell_phi_minus)\n",
    "display(bell_psi_plus)\n",
    "bell_psi_minus"
   ]
  },
  {
   "cell_type": "code",
   "execution_count": 143,
   "metadata": {},
   "outputs": [
    {
     "data": {
      "image/png": "[encoded data removed]",
      "text/latex": [
       "$\\displaystyle \\frac{\\cos^{2}{\\left(\\alpha - \\beta \\right)}}{2}$"
      ],
      "text/plain": [
       "   2       \n",
       "cos (α - β)\n",
       "───────────\n",
       "     2     "
      ]
     },
     "execution_count": 143,
     "metadata": {},
     "output_type": "execute_result"
    }
   ],
   "source": [
    "state=bell_phi_plus\n",
    "(state.T@TensorProduct(polar.subs(gamma,alpha),polar.subs(gamma,beta))@state)[0].simplify()"
   ]
  },
  {
   "cell_type": "code",
   "execution_count": 145,
   "metadata": {
    "id": "_au0z5icBRTS"
   },
   "outputs": [
    {
     "name": "stdout",
     "output_type": "stream",
     "text": [
      "[sqrt(2)/2, -sqrt(2)/2, sqrt(2)/2, sqrt(2)/2]\n",
      "[sqrt(2)/2, -sqrt(2)/2, -sqrt(2)/2, -sqrt(2)/2]\n",
      "[-sqrt(2)/2, sqrt(2)/2, sqrt(2)/2, sqrt(2)/2]\n",
      "[-sqrt(2)/2, sqrt(2)/2, -sqrt(2)/2, -sqrt(2)/2]\n",
      "AAAAAAAAAAAAAAAAAAAAAAAAAAAAAAAA\n"
     ]
    },
    {
     "data": {
      "image/png": "[encoded data removed]",
      "text/latex": [
       "$\\displaystyle 2 \\sqrt{2}$"
      ],
      "text/plain": [
       "2⋅√2"
      ]
     },
     "metadata": {},
     "output_type": "display_data"
    },
    {
     "data": {
      "image/png": "[encoded data removed]",
      "text/latex": [
       "$\\displaystyle 0$"
      ],
      "text/plain": [
       "0"
      ]
     },
     "metadata": {},
     "output_type": "display_data"
    },
    {
     "data": {
      "image/png": "[encoded data removed]",
      "text/latex": [
       "$\\displaystyle 0$"
      ],
      "text/plain": [
       "0"
      ]
     },
     "metadata": {},
     "output_type": "display_data"
    },
    {
     "data": {
      "image/png": "[encoded data removed]",
      "text/latex": [
       "$\\displaystyle 2 \\sqrt{2}$"
      ],
      "text/plain": [
       "2⋅√2"
      ]
     },
     "metadata": {},
     "output_type": "display_data"
    },
    {
     "data": {
      "image/png": "[encoded data removed]",
      "text/latex": [
       "$\\displaystyle 0$"
      ],
      "text/plain": [
       "0"
      ]
     },
     "metadata": {},
     "output_type": "display_data"
    },
    {
     "data": {
      "image/png": "[encoded data removed]",
      "text/latex": [
       "$\\displaystyle - 2 \\sqrt{2}$"
      ],
      "text/plain": [
       "-2⋅√2"
      ]
     },
     "metadata": {},
     "output_type": "display_data"
    },
    {
     "data": {
      "image/png": "[encoded data removed]",
      "text/latex": [
       "$\\displaystyle - 2 \\sqrt{2}$"
      ],
      "text/plain": [
       "-2⋅√2"
      ]
     },
     "metadata": {},
     "output_type": "display_data"
    },
    {
     "data": {
      "image/png": "[encoded data removed]",
      "text/latex": [
       "$\\displaystyle 0$"
      ],
      "text/plain": [
       "0"
      ]
     },
     "metadata": {},
     "output_type": "display_data"
    }
   ],
   "source": [
    "Epp= eab(0,112.5,bell_phi_plus)\n",
    "Epp\n",
    "\n",
    "def CSSH2(alphaa,betaa,state):\n",
    "    Ea=[]\n",
    "    for i in range(4):\n",
    "        Ea.append(eab(alpha,beta,state).subs(alpha,alphaa[i]).subs(beta,betaa[i]))\n",
    "    S=Ea[0]-Ea[1]+Ea[2]+Ea[3]\n",
    "    Svonal=Ea[0]-Ea[1]-Ea[2]-Ea[3]\n",
    "    print(Ea)\n",
    "    return S.simplify(), Svonal.simplify()\n",
    "\n",
    "aaa=[0,0,pi/4,pi/4]\n",
    "#bbb=[np.deg2rad(22.5),np.deg2rad(22.5),np.deg2rad(67.5),np.deg2rad(67.5)]\n",
    "bbb=[pi/8,3*pi/8,pi/8,3*pi/8]\n",
    "Spp,Svpp=CSSH2(aaa,bbb,bell_phi_plus)\n",
    "Spm,Svpm=CSSH2(aaa,bbb,bell_phi_minus)\n",
    "Ssp,Svsp=CSSH2(aaa,bbb,bell_psi_plus)\n",
    "Ssm,Svsm=CSSH2(aaa,bbb,bell_psi_minus)\n",
    "print(\"AAAAAAAAAAAAAAAAAAAAAAAAAAAAAAAA\")\n",
    "display(Spp)\n",
    "display(Svpp)\n",
    "display(Spm)\n",
    "display(Svpm)\n",
    "display(Ssp)\n",
    "display(Svsp)\n",
    "display(Ssm)\n",
    "display(Svsm)"
   ]
  },
  {
   "cell_type": "markdown",
   "metadata": {
    "id": "o5l2VqJ-BRTS"
   },
   "source": [
    "## Bónusz feladat, a méréshez nem szükséges!\n",
    "\n",
    "+ Az $\\mid \\Psi \\rangle = \\sqrt{\\eta} \\mid HH \\rangle + \\sqrt{1-\\eta} \\mid VV \\rangle$ az $\\eta$ értékétől függően általában egy nem teljesen összefont állapotot ír le (pl. $\\eta=1/4$ esetén a jegyzetben is szereplőt).\n",
    "+ Az állítás az, hogy mindig található olyan bázis, amelyben az adott állapot sérti a Bell-egyenlőtlenségeket! Találjuk meg / adjunk receptet a megtalálására!\n",
    "+ Mutassuk meg $\\eta=10^{-3}$ esetén, hogy a recept működik!"
   ]
  },
  {
   "cell_type": "code",
   "execution_count": null,
   "metadata": {
    "id": "wIxeGCRXBRTS"
   },
   "outputs": [],
   "source": []
  },
  {
   "cell_type": "code",
   "execution_count": 30,
   "metadata": {},
   "outputs": [],
   "source": [
    "alpha, beta, in1, in2, coin = np.loadtxt(\"feladat4\", unpack = True)"
   ]
  },
  {
   "cell_type": "code",
   "execution_count": 31,
   "metadata": {},
   "outputs": [
    {
     "name": "stdout",
     "output_type": "stream",
     "text": [
      "0.0 & 22.0 & 5538.0 \\\\\n",
      "0.0 & 112.0 & 14277.0 \\\\\n",
      "90.0 & 22.0 & 10185.0 \\\\\n",
      "90.0 & 112.0 & 4682.0 \\\\\n",
      "45.0 & 22.0 & 1463.0 \\\\\n",
      "45.0 & 112.0 & 16395.0 \\\\\n",
      "135.0 & 22.0 & 13694.0 \\\\\n",
      "135.0 & 112.0 & 2184.0 \\\\\n",
      "0.0 & 67.0 & 16630.0 \\\\\n",
      "0.0 & 157.0 & 2636.0 \\\\\n",
      "90.0 & 157.0 & 13249.0 \\\\\n",
      "90.0 & 67.0 & 1893.0 \\\\\n",
      "45.0 & 67.0 & 6579.0 \\\\\n",
      "45.0 & 157.0 & 11291.0 \\\\\n",
      "135.0 & 157.0 & 4385.0 \\\\\n",
      "135.0 & 67.0 & 11175.0 \\\\\n"
     ]
    }
   ],
   "source": [
    "for i in range(len(alpha)):\n",
    "    print(r'{} & {} & {} \\\\'.format(alpha[i],beta[i],coin[i]))"
   ]
  },
  {
   "cell_type": "code",
   "execution_count": 16,
   "metadata": {},
   "outputs": [
    {
     "data": {
      "image/png": "[encoded data removed]",
      "text/latex": [
       "$\\displaystyle -0.4106452915056802$"
      ],
      "text/plain": [
       "-0.4106452915056802"
      ]
     },
     "execution_count": 16,
     "metadata": {},
     "output_type": "execute_result"
    }
   ],
   "source": [
    "(coin[0]-coin[1]-coin[2]+coin[3])/(coin[0]+coin[1]+coin[2]+coin[3])"
   ]
  },
  {
   "cell_type": "code",
   "execution_count": 53,
   "metadata": {},
   "outputs": [],
   "source": [
    "i=0\n",
    "E1=(coin[0]-coin[1]-coin[2]+coin[3])/(coin[0]+coin[1]+coin[2]+coin[3])\n",
    "i=1\n",
    "E2=(coin[4]-coin[5]-coin[6]+coin[7])/(coin[4]+coin[5]+coin[6]+coin[7])\n",
    "i=2\n",
    "E3=(coin[8]-coin[9]-coin[11]+coin[10])/(coin[8]+coin[9]+coin[11]+coin[10])\n",
    "i=3\n",
    "E4=(coin[12]-coin[13]-coin[15]+coin[14])/(coin[12]+coin[13]+coin[15]+coin[14])"
   ]
  },
  {
   "cell_type": "code",
   "execution_count": 33,
   "metadata": {},
   "outputs": [
    {
     "data": {
      "text/plain": [
       "array([-0.41064529, -0.7837918 ,  0.07666822,  0.06215974])"
      ]
     },
     "execution_count": 33,
     "metadata": {},
     "output_type": "execute_result"
    }
   ],
   "source": [
    "iminpain"
   ]
  },
  {
   "cell_type": "code",
   "execution_count": 54,
   "metadata": {},
   "outputs": [],
   "source": [
    "S = E1+ E2- E3+ E4\n",
    "S_ = E1- E2- E3- E4"
   ]
  },
  {
   "cell_type": "code",
   "execution_count": 55,
   "metadata": {},
   "outputs": [
    {
     "name": "stdout",
     "output_type": "stream",
     "text": [
      "-2.275246574261149 -0.01953854490459439\n"
     ]
    }
   ],
   "source": [
    "print(S,S_)"
   ]
  },
  {
   "cell_type": "code",
   "execution_count": 109,
   "metadata": {},
   "outputs": [
    {
     "data": {
      "text/plain": [
       "Text(-1.8, -1.9, 'Classical')"
      ]
     },
     "execution_count": 109,
     "metadata": {},
     "output_type": "execute_result"
    },
    {
     "data": {
      "image/png": "[encoded data removed]",
      "text/plain": [
       "<Figure size 576x576 with 1 Axes>"
      ]
     },
     "metadata": {
      "needs_background": "light"
     },
     "output_type": "display_data"
    }
   ],
   "source": [
    "circle1 = plt.Circle((0, 0), 2*sqrt(2), color='lightgrey')\n",
    "fig= plt.figure(figsize=(8,8))\n",
    "ax = fig.add_subplot(1, 1, 1)\n",
    "\n",
    "# Move left y-axis and bottim x-axis to centre, passing through (0,0)\n",
    "ax.spines['left'].set_position('center')\n",
    "ax.spines['bottom'].set_position('center')\n",
    "\n",
    "# Eliminate upper and right axes\n",
    "ax.spines['right'].set_color('none')\n",
    "ax.spines['top'].set_color('none')\n",
    "\n",
    "# Show ticks in the left and lower axes only\n",
    "ax.xaxis.set_ticks_position('bottom')\n",
    "ax.yaxis.set_ticks_position('left')\n",
    "\n",
    "\n",
    "plt.errorbar(S_,S,marker=\"x\",c=\"b\")\n",
    "plt.hlines(2,-2,2, color=\"r\")\n",
    "plt.hlines(-2,-2,2, color=\"r\")\n",
    "plt.vlines(2,-2,2, color=\"r\")\n",
    "plt.vlines(-2,-2,2, color=\"r\")\n",
    "\n",
    "plt.gca().add_patch(circle1)\n",
    "plt.fill_between([-2,2],-2,2, color=\"r\")\n",
    "\n",
    "ax.set_xlabel(r\"$\\overline{S}$\",fontsize=16)\n",
    "ticklab = ax.xaxis.get_ticklabels()[0]\n",
    "trans = ticklab.get_transform()\n",
    "ax.xaxis.set_label_coords(2.5, 0, transform=trans)\n",
    "\n",
    "ax.set_ylabel(r\"$S$\",fontsize=16)\n",
    "ticklab = ax.yaxis.get_ticklabels()[0]\n",
    "trans = ticklab.get_transform()\n",
    "ax.yaxis.set_label_coords(0, 2.5, transform=trans)\n",
    "\n",
    "plt.arrow(0, 0, S_, S, color=\"b\",head_width=0)\n",
    "plt.annotate(\"Quantum\",(-1.8,2.1),fontsize=16)\n",
    "plt.annotate(\"Classical\",(-1.8,-1.9),fontsize=16)"
   ]
  },
  {
   "cell_type": "code",
   "execution_count": 146,
   "metadata": {},
   "outputs": [],
   "source": [
    "N=coin.sum()"
   ]
  },
  {
   "cell_type": "code",
   "execution_count": 165,
   "metadata": {},
   "outputs": [
    {
     "name": "stdout",
     "output_type": "stream",
     "text": [
      "0.0007457 -0.005365 0.0007459\n"
     ]
    }
   ],
   "source": [
    "ndelta=(abs(S)-2)/N**(1/2)\n",
    "ndelta_=(abs(S_)-2)/N**(1/2)\n",
    "n=((S**2+S_**2)**(1/2)-2)/N**(1/2)\n",
    "\n",
    "print(\"{:.4} {:.4} {:.4}\".format(ndelta, ndelta_, n))"
   ]
  },
  {
   "cell_type": "code",
   "execution_count": 164,
   "metadata": {},
   "outputs": [
    {
     "data": {
      "text/plain": [
       "True"
      ]
     },
     "execution_count": 164,
     "metadata": {},
     "output_type": "execute_result"
    }
   ],
   "source": [
    "poop=np.array([])\n",
    "np.where(poop==1)[0].shape[0]==0"
   ]
  },
  {
   "cell_type": "code",
   "execution_count": null,
   "metadata": {},
   "outputs": [],
   "source": []
  }
 ],
 "metadata": {
  "colab": {
   "collapsed_sections": [],
   "name": "bell_segedlet.ipynb",
   "provenance": []
  },
  "kernelspec": {
   "display_name": "Python 3",
   "language": "python",
   "name": "python3"
  },
  "language_info": {
   "codemirror_mode": {
    "name": "ipython",
    "version": 3
   },
   "file_extension": ".py",
   "mimetype": "text/x-python",
   "name": "python",
   "nbconvert_exporter": "python",
   "pygments_lexer": "ipython3",
   "version": "3.8.8"
  }
 },
 "nbformat": 4,
 "nbformat_minor": 1
}
